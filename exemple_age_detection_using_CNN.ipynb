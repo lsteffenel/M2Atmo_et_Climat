{
  "cells": [
    {
      "cell_type": "markdown",
      "metadata": {
        "id": "view-in-github",
        "colab_type": "text"
      },
      "source": [
        "<a href=\"https://colab.research.google.com/github/lsteffenel/M2Atmo_et_Climat/blob/main/exemple_age_detection_using_CNN.ipynb\" target=\"_parent\"><img src=\"https://colab.research.google.com/assets/colab-badge.svg\" alt=\"Open In Colab\"/></a>"
      ]
    },
    {
      "cell_type": "markdown",
      "source": [
        "# Estimation de l'âge à partir d'une photo\n",
        "\n",
        "Pour cet exemple, nous allons faire une classification avec des \"tranches d'âge\". Il est aussi possible de faire une régression, mais pour l'instant essayons la classification."
      ],
      "metadata": {
        "id": "QFmwDES2f34I"
      },
      "id": "QFmwDES2f34I"
    },
    {
      "cell_type": "code",
      "execution_count": null,
      "id": "d8efd166",
      "metadata": {
        "id": "d8efd166"
      },
      "outputs": [],
      "source": [
        "import cv2\n",
        "import pandas as pd\n",
        "import os\n",
        "import seaborn as sns\n",
        "import matplotlib.pyplot as plt\n",
        "from tensorflow.keras.preprocessing.image import ImageDataGenerator\n",
        "from keras.models import Sequential\n",
        "from keras.layers import Conv2D, Dense, Dropout, Flatten, AveragePooling2D, GlobalAveragePooling2D\n",
        "from keras.callbacks import ModelCheckpoint\n",
        "import numpy as np\n",
        "import tensorflow as tf\n",
        "\n",
        "np.random.seed(42)\n",
        "tf.random.set_seed(42)"
      ]
    },
    {
      "cell_type": "code",
      "execution_count": null,
      "id": "HvneieoZzqTE",
      "metadata": {
        "id": "HvneieoZzqTE"
      },
      "outputs": [],
      "source": [
        "device_name = tf.test.gpu_device_name()\n",
        "if device_name != '/device:GPU:0':\n",
        "    raise SystemError('GPU device not found')\n",
        "print('Found GPU at: {}'.format(device_name))"
      ]
    },
    {
      "cell_type": "markdown",
      "source": [
        "Ici on télécharge une base d'images. Vous pouvez explorer les images en cliquant sur l'icone \"dossier\" à gauche"
      ],
      "metadata": {
        "id": "oJ-2MZf2gMfn"
      },
      "id": "oJ-2MZf2gMfn"
    },
    {
      "cell_type": "code",
      "source": [
        "!gdown 1nOR9p4nWpcWMtRCVTjEOGXzyM43LWcZX\n",
        "!unzip -q combined_faces.zip"
      ],
      "metadata": {
        "id": "D0JRaOH-owqM"
      },
      "id": "D0JRaOH-owqM",
      "execution_count": null,
      "outputs": []
    },
    {
      "cell_type": "markdown",
      "source": [
        "Dans cette étape, nous allons créer la partie X (variables) et la partie y (cible). On attribue les classes en fonction des tranches d'âge, ça serait presque similaire d'utiliser directement l'âge comme cible (dans le cas d'une régression, par exemple)."
      ],
      "metadata": {
        "id": "l-mecQ_pgWFZ"
      },
      "id": "l-mecQ_pgWFZ"
    },
    {
      "cell_type": "code",
      "execution_count": null,
      "id": "b1329ee1",
      "metadata": {
        "id": "b1329ee1"
      },
      "outputs": [],
      "source": [
        "all_images = os.listdir('combined_faces/')\n",
        "#ranges = ['1-2','3-9','10-20','21-27','28-45','46-65','66-116']\n",
        "\n",
        "X = []\n",
        "y = []\n",
        "\n",
        "l = len(all_images)\n",
        "\n",
        "for a in range(l):\n",
        "    X.append(cv2.imread(f'combined_faces/{all_images[a]}',0))\n",
        "    age = int(all_images[a].split('_')[0])\n",
        "\n",
        "    if age>=1 and age<=2:\n",
        "        y.append(0)\n",
        "    elif age>=3 and age<=9:\n",
        "        y.append(1)\n",
        "    elif age>=10 and age<=20:\n",
        "        y.append(2)\n",
        "    elif age>=21 and age<=27:\n",
        "        y.append(3)\n",
        "    elif age>=28 and age<=45:\n",
        "        y.append(4)\n",
        "    elif age>=46 and age<=65:\n",
        "        y.append(5)\n",
        "    elif age>=66 and age<=116:\n",
        "        y.append(6)\n",
        "    print(str(a)+'/'+str(l))\n",
        "\n",
        "#np.savez_compressed('compressed image data.npz',x=X,y=y)"
      ]
    },
    {
      "cell_type": "code",
      "execution_count": null,
      "id": "30745bb1",
      "metadata": {
        "id": "30745bb1"
      },
      "outputs": [],
      "source": [
        "#loaded = np.load('compressed image data.npz')\n",
        "\n",
        "#X = loaded['x']\n",
        "#y = loaded['y']"
      ]
    },
    {
      "cell_type": "markdown",
      "source": [
        "voici un exemple d'une image"
      ],
      "metadata": {
        "id": "5H8riaxegxY2"
      },
      "id": "5H8riaxegxY2"
    },
    {
      "cell_type": "code",
      "execution_count": null,
      "id": "2dc00c5e",
      "metadata": {
        "id": "2dc00c5e",
        "scrolled": true
      },
      "outputs": [],
      "source": [
        "plt.imshow(X[1],cmap='gray')\n",
        "print(y[1])"
      ]
    },
    {
      "cell_type": "markdown",
      "source": [
        "A partir du dataset, nous allons séparer les données en groupes d'entraînement et de test. Mais avant ça, indiquons que la cible est de type catégorique."
      ],
      "metadata": {
        "id": "pX2umQTVg1fs"
      },
      "id": "pX2umQTVg1fs"
    },
    {
      "cell_type": "code",
      "execution_count": null,
      "id": "d953c2c1",
      "metadata": {
        "id": "d953c2c1"
      },
      "outputs": [],
      "source": [
        "from sklearn.model_selection import train_test_split"
      ]
    },
    {
      "cell_type": "code",
      "execution_count": null,
      "id": "3272fa95",
      "metadata": {
        "id": "3272fa95"
      },
      "outputs": [],
      "source": [
        "from keras.utils import to_categorical\n",
        "y=to_categorical(y)"
      ]
    },
    {
      "cell_type": "code",
      "execution_count": null,
      "id": "fb9ce8cd",
      "metadata": {
        "id": "fb9ce8cd"
      },
      "outputs": [],
      "source": [
        "y"
      ]
    },
    {
      "cell_type": "code",
      "execution_count": null,
      "id": "32fde499",
      "metadata": {
        "id": "32fde499"
      },
      "outputs": [],
      "source": [
        "X_train, X_test, y_train, y_test = train_test_split(X, y, test_size=0.30, random_state=42)"
      ]
    },
    {
      "cell_type": "markdown",
      "source": [
        "Les images ont des formats diverses. Ici on oblige toutes à avoir la forme 200x200 pixels"
      ],
      "metadata": {
        "id": "x8M87ybQhCHa"
      },
      "id": "x8M87ybQhCHa"
    },
    {
      "cell_type": "code",
      "execution_count": null,
      "id": "6fd6b9b7",
      "metadata": {
        "id": "6fd6b9b7"
      },
      "outputs": [],
      "source": [
        "X_train = np.array(X_train).reshape(-1,200,200,1)"
      ]
    },
    {
      "cell_type": "code",
      "execution_count": null,
      "id": "d684fbe3",
      "metadata": {
        "id": "d684fbe3"
      },
      "outputs": [],
      "source": [
        "X_test = np.array(X_test).reshape(-1,200,200,1)"
      ]
    },
    {
      "cell_type": "code",
      "execution_count": null,
      "id": "39c1bf51",
      "metadata": {
        "id": "39c1bf51"
      },
      "outputs": [],
      "source": [
        "IMG_HEIGHT = 200\n",
        "IMG_WIDTH = 200\n",
        "IMG_SIZE = (IMG_HEIGHT,IMG_WIDTH)\n",
        "batch_size = 128\n",
        "epochs = 10"
      ]
    },
    {
      "cell_type": "markdown",
      "source": [
        "On utilise un Generator pour effectuer de l'augmentation de données (rotation, etc)."
      ],
      "metadata": {
        "id": "56FJMkH0hKGv"
      },
      "id": "56FJMkH0hKGv"
    },
    {
      "cell_type": "code",
      "execution_count": null,
      "id": "75fa0910",
      "metadata": {
        "id": "75fa0910"
      },
      "outputs": [],
      "source": [
        "train_datagen = ImageDataGenerator(rescale=1./255,\n",
        "                                   horizontal_flip=True,\n",
        "                                   shear_range=0.2,\n",
        "                                   zoom_range=0.2,\n",
        "                                   height_shift_range=0.1,\n",
        "                                   width_shift_range=0.1,\n",
        "                                   rotation_range=15)\n",
        "\n",
        "test_datagen = ImageDataGenerator(rescale=1./255)"
      ]
    },
    {
      "cell_type": "code",
      "execution_count": null,
      "id": "73dbf229",
      "metadata": {
        "id": "73dbf229"
      },
      "outputs": [],
      "source": [
        "train_data = train_datagen.flow(X_train,y_train,batch_size)\n",
        "\n",
        "test_data = test_datagen.flow(X_test,y_test,batch_size)"
      ]
    },
    {
      "cell_type": "markdown",
      "source": [
        "Le modèle est composé de 4 couches \"convolution+average pooling\". Ensuite, on effectue encore un pooling avant les dernières couches denses utilisées pour la classification."
      ],
      "metadata": {
        "id": "z5XdKkYNhSlm"
      },
      "id": "z5XdKkYNhSlm"
    },
    {
      "cell_type": "code",
      "execution_count": null,
      "id": "97d7e665",
      "metadata": {
        "id": "97d7e665"
      },
      "outputs": [],
      "source": [
        "final_cnn = Sequential()\n",
        "\n",
        "final_cnn.add(Conv2D(filters=32, kernel_size=3, activation='relu', input_shape=(200, 200, 1)))    # 3rd dim = 1 for grayscale images.\n",
        "final_cnn.add(AveragePooling2D(pool_size=(2,2)))\n",
        "\n",
        "final_cnn.add(Conv2D(filters=64, kernel_size=3, activation='relu'))\n",
        "final_cnn.add(AveragePooling2D(pool_size=(2,2)))\n",
        "\n",
        "final_cnn.add(Conv2D(filters=128, kernel_size=3, activation='relu'))\n",
        "final_cnn.add(AveragePooling2D(pool_size=(2,2)))\n",
        "\n",
        "final_cnn.add(Conv2D(filters=256, kernel_size=3, activation='relu'))\n",
        "final_cnn.add(AveragePooling2D(pool_size=(2,2)))\n",
        "\n",
        "\n",
        "final_cnn.add(GlobalAveragePooling2D())\n",
        "\n",
        "final_cnn.add(Dense(132, activation='relu'))\n",
        "\n",
        "final_cnn.add(Dense(7, activation='softmax')) # 7 car on a 7 \"classes d'âge\"\n",
        "\n",
        "final_cnn.summary()"
      ]
    },
    {
      "cell_type": "code",
      "execution_count": null,
      "id": "c0d25238",
      "metadata": {
        "id": "c0d25238"
      },
      "outputs": [],
      "source": [
        "final_cnn.compile(loss='categorical_crossentropy', optimizer='adam', metrics=['accuracy'])"
      ]
    },
    {
      "cell_type": "markdown",
      "source": [
        "Enfin, on rajoute une \"astuce\" : sauvegarder le meilleur modèle afin de l'utiliser après l'entraînement."
      ],
      "metadata": {
        "id": "1wAHl1cLhi43"
      },
      "id": "1wAHl1cLhi43"
    },
    {
      "cell_type": "code",
      "execution_count": null,
      "id": "520f2a1e",
      "metadata": {
        "id": "520f2a1e"
      },
      "outputs": [],
      "source": [
        "checkpoint = ModelCheckpoint(filepath=\"models/final_cnn_model_checkpoint.keras\",\n",
        "                             monitor='val_accuracy',\n",
        "                             save_best_only=True,\n",
        "                             save_weights_only=False,\n",
        "                             verbose=1\n",
        "                            )"
      ]
    },
    {
      "cell_type": "code",
      "execution_count": null,
      "id": "112f1ba8",
      "metadata": {
        "id": "112f1ba8"
      },
      "outputs": [],
      "source": [
        "history = final_cnn.fit(train_data,\n",
        "                    batch_size=512,\n",
        "                    validation_data=test_data,\n",
        "                    epochs=10,\n",
        "                    callbacks=[checkpoint],\n",
        "                    shuffle=False    # shuffle=False to reduce randomness and increase reproducibility\n",
        "                    )"
      ]
    },
    {
      "cell_type": "code",
      "execution_count": null,
      "id": "f6f59ec1",
      "metadata": {
        "id": "f6f59ec1"
      },
      "outputs": [],
      "source": [
        "train_loss = history.history['loss']\n",
        "test_loss = history.history['val_loss']\n",
        "train_accuracy = history.history['accuracy']\n",
        "test_accuracy = history.history['val_accuracy']"
      ]
    },
    {
      "cell_type": "code",
      "execution_count": null,
      "id": "765b0f42",
      "metadata": {
        "id": "765b0f42"
      },
      "outputs": [],
      "source": [
        "plotting_data_dict = history.history\n",
        "\n",
        "plt.figure(figsize=(12,8))\n",
        "\n",
        "test_loss = plotting_data_dict['val_loss']\n",
        "training_loss = plotting_data_dict['loss']\n",
        "test_accuracy = plotting_data_dict['val_accuracy']\n",
        "training_accuracy = plotting_data_dict['accuracy']\n",
        "\n",
        "epochs = range(1,len(test_loss)+1)\n",
        "\n",
        "plt.subplot(121)\n",
        "plt.plot(epochs,test_loss,marker='X',label='test_loss')\n",
        "plt.plot(epochs,training_loss,marker='X',label='training_loss')\n",
        "plt.legend()\n",
        "\n",
        "plt.subplot(122)\n",
        "plt.plot(epochs,test_accuracy,marker='X',label='test_accuracy')\n",
        "plt.plot(epochs,training_accuracy,marker='X',label='training_accuracy')\n",
        "plt.legend()\n",
        "\n",
        "#plt.savefig('training.png')"
      ]
    },
    {
      "cell_type": "markdown",
      "source": [
        "#On fait un test ?\n",
        "\n",
        "Déposez une image. Essayez d'avoir une image cadrée sur votre visage, pour augmenter la réussite.\n",
        "\n",
        "Dans le prochaine paragraphe, changez \"nom_fichier.png\" par celui de votre image."
      ],
      "metadata": {
        "id": "WwXcvHahjT8v"
      },
      "id": "WwXcvHahjT8v"
    },
    {
      "cell_type": "code",
      "execution_count": null,
      "id": "rd_fuYcRwmJk",
      "metadata": {
        "id": "rd_fuYcRwmJk"
      },
      "outputs": [],
      "source": [
        "from tensorflow.keras.models import load_model\n",
        "\n",
        "model = load_model(\"models/final_cnn_model_checkpoint.keras\")\n",
        "ranges = ['1-2','3-9','10-20','21-27','28-45','46-65','66-116']\n",
        "\n",
        "image = cv2.imread(\"nom_fichier.png\")\n",
        "\n",
        "face = cv2.cvtColor(image,cv2.COLOR_BGR2GRAY)\n",
        "\n",
        "face = cv2.resize(face,(200,200))\n",
        "face = face.reshape(1,200,200,1)\n",
        "age = model.predict(face)\n",
        "agerange = ranges[np.argmax(age)]\n",
        "\n",
        "plt.imshow(image, cmap='gray')\n",
        "print (\"votre âge est dans la tranche\", agerange)"
      ]
    },
    {
      "cell_type": "code",
      "source": [],
      "metadata": {
        "id": "oXP6FWxwkbTT"
      },
      "id": "oXP6FWxwkbTT",
      "execution_count": null,
      "outputs": []
    }
  ],
  "metadata": {
    "accelerator": "GPU",
    "colab": {
      "provenance": [],
      "include_colab_link": true
    },
    "kernelspec": {
      "display_name": "Python 3",
      "language": "python",
      "name": "python3"
    },
    "language_info": {
      "codemirror_mode": {
        "name": "ipython",
        "version": 3
      },
      "file_extension": ".py",
      "mimetype": "text/x-python",
      "name": "python",
      "nbconvert_exporter": "python",
      "pygments_lexer": "ipython3",
      "version": "3.8.8"
    }
  },
  "nbformat": 4,
  "nbformat_minor": 5
}