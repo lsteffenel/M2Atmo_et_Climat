{
  "cells": [
    {
      "cell_type": "markdown",
      "metadata": {
        "id": "view-in-github",
        "colab_type": "text"
      },
      "source": [
        "<a href=\"https://colab.research.google.com/github/lsteffenel/M2Atmo_et_Climat/blob/main/02a-Regression.ipynb\" target=\"_parent\"><img src=\"https://colab.research.google.com/assets/colab-badge.svg\" alt=\"Open In Colab\"/></a>"
      ]
    },
    {
      "cell_type": "markdown",
      "metadata": {
        "id": "J6achdZf3PJu"
      },
      "source": [
        "# Intro Régression"
      ]
    },
    {
      "cell_type": "markdown",
      "metadata": {
        "id": "WEuXpjjm3PJv"
      },
      "source": [
        "## 2. L'exemple du dataset Boston"
      ]
    },
    {
      "cell_type": "code",
      "source": [
        "!wget https://raw.githubusercontent.com/lsteffenel/CHPS0704/refs/heads/main/data/boston.txt"
      ],
      "metadata": {
        "id": "mjVriGQT38rz"
      },
      "execution_count": null,
      "outputs": []
    },
    {
      "cell_type": "markdown",
      "source": [
        "## Exercice 1 - étudier le dataset boston\n",
        "Ouvrez le fichier `boston.txt`que vous venez de télécharger.\n",
        "\n",
        "Que représente ce dataset ?\n",
        "\n",
        "A votre avis, quels sont les paramètres qui devraient influencer plus le prix moyens des maisons ?"
      ],
      "metadata": {
        "id": "O2BiUwJf4dHp"
      }
    },
    {
      "cell_type": "markdown",
      "source": [
        "## Ici on choisira des variables et appliquera une regression linéaire pour prédire le prix moyen des maisons."
      ],
      "metadata": {
        "id": "vpoima_a5LS9"
      }
    },
    {
      "cell_type": "code",
      "execution_count": null,
      "metadata": {
        "id": "S8lbr5j-3PJv"
      },
      "outputs": [],
      "source": [
        "import pandas as pd\n",
        "from sklearn.model_selection import train_test_split\n",
        "import sklearn.metrics\n",
        "from sklearn.tree import DecisionTreeRegressor\n",
        "\n",
        "# Chargement des données\n",
        "names=['CRIM', 'ZN', 'INDUS', 'CHAS', 'NOX', 'RM', 'AGE', 'DIS', 'RAD', 'TAX', 'PTRATIO', 'B', 'LSTAT', 'MEDV']\n",
        "boston_df = pd.read_fwf(\"boston.txt\", skiprows=22, header=None, names=names)\n",
        "# Séparation train - test\n",
        "y = boston_df['MEDV']\n",
        "X = boston_df.drop(labels='MEDV', axis=1)\n",
        "train_X, test_X, train_y, test_y = train_test_split(X, y, train_size=0.8, test_size=0.2, random_state=42)\n",
        "\n",
        "\n",
        "# Création d'un modèle\n",
        "regressor = DecisionTreeRegressor(max_depth=5, random_state=42)\n",
        "\n",
        "# Fit du modèle\n",
        "regressor.fit(train_X, train_y)\n",
        "\n",
        "# Prédictions\n",
        "pred_y = regressor.predict(test_X)\n",
        "\n",
        "# Evaluation\n",
        "print(sklearn.metrics.explained_variance_score(test_y, pred_y))"
      ]
    },
    {
      "cell_type": "markdown",
      "source": [
        "### Question 2 : que représente cette valeur \"explained variance score\" ? Comment vous le traduiserait pour l'expliquer à un enfant ?"
      ],
      "metadata": {
        "id": "wvqNJksa5iwY"
      }
    },
    {
      "cell_type": "markdown",
      "source": [
        "###Par la suite, nous avons plusieurs métriques. Observez les différences."
      ],
      "metadata": {
        "id": "bpFwdv485uOn"
      }
    },
    {
      "cell_type": "code",
      "execution_count": null,
      "metadata": {
        "id": "AasQwbUd3PJw"
      },
      "outputs": [],
      "source": [
        "# Erreur absolue moyenne\n",
        "sklearn.metrics.mean_absolute_error(test_y, pred_y)"
      ]
    },
    {
      "cell_type": "code",
      "execution_count": null,
      "metadata": {
        "id": "6N-DyMAO3PJw"
      },
      "outputs": [],
      "source": [
        "# Erreur absolue medianne\n",
        "sklearn.metrics.median_absolute_error(test_y, pred_y)"
      ]
    },
    {
      "cell_type": "code",
      "execution_count": null,
      "metadata": {
        "id": "LWm631r-3PJw"
      },
      "outputs": [],
      "source": [
        "# Erreur quadratique moyenne\n",
        "sklearn.metrics.mean_squared_error(test_y, pred_y)"
      ]
    },
    {
      "cell_type": "code",
      "execution_count": null,
      "metadata": {
        "id": "O-QkaGYt3PJw"
      },
      "outputs": [],
      "source": [
        "# Racine de l'erreur quadratique moyenne\n",
        "sklearn.metrics.mean_squared_error(test_y, pred_y, squared=False)"
      ]
    },
    {
      "cell_type": "code",
      "execution_count": null,
      "metadata": {
        "id": "eUZ_8aFa3PJx"
      },
      "outputs": [],
      "source": [
        "# Variance expliquée\n",
        "sklearn.metrics.explained_variance_score(test_y, pred_y)"
      ]
    },
    {
      "cell_type": "code",
      "execution_count": null,
      "metadata": {
        "id": "FVvUxDwk3PJx"
      },
      "outputs": [],
      "source": [
        "# Score R2 : coefficient de détermination\n",
        "sklearn.metrics.r2_score(test_y, pred_y)"
      ]
    },
    {
      "cell_type": "code",
      "execution_count": null,
      "metadata": {
        "id": "nOhZwmQK3PJx"
      },
      "outputs": [],
      "source": [
        "# Erreur maximale\n",
        "sklearn.metrics.max_error(test_y, pred_y)"
      ]
    },
    {
      "cell_type": "code",
      "execution_count": null,
      "metadata": {
        "id": "3wer6BOA3PJx"
      },
      "outputs": [],
      "source": [
        "# Erreur absolue moyenne (pourcentage)\n",
        "sklearn.metrics.mean_absolute_percentage_error(test_y, pred_y)"
      ]
    },
    {
      "cell_type": "code",
      "execution_count": null,
      "metadata": {
        "id": "dEMMu-p_3PJx"
      },
      "outputs": [],
      "source": [
        "# Erreur quadratique moyenne logarithmique\n",
        "sklearn.metrics.mean_squared_log_error(test_y, pred_y)"
      ]
    },
    {
      "cell_type": "markdown",
      "source": [
        "## Exercice 3 :\n",
        "êtes-vous capables d'obtenir des meilleurs résultats ? Comment ?\n",
        "\n",
        "*Astuce : essayez de jouer avec les variables analysées... Peut-être une matrice de corrélation pourra indiquer les variables intéressantes à garder*"
      ],
      "metadata": {
        "id": "vXYLjeTP53TB"
      }
    },
    {
      "cell_type": "code",
      "source": [
        "# à vous de jouer.\n"
      ],
      "metadata": {
        "id": "q1bfCMi46UF_"
      },
      "execution_count": null,
      "outputs": []
    },
    {
      "cell_type": "markdown",
      "metadata": {
        "id": "BF6pJXOR3PJx"
      },
      "source": [
        "## 3. Utilisation des algorithmes de classification\n",
        "\n",
        "Plutôt qu'une régression linéaire, essayons avec des algorithmes de classification"
      ]
    },
    {
      "cell_type": "markdown",
      "metadata": {
        "id": "AA0iC7oF3PJy"
      },
      "source": [
        "### 3.2 Arbres de décision et algorithmes dérivés"
      ]
    },
    {
      "cell_type": "code",
      "execution_count": null,
      "metadata": {
        "id": "LfBYo1wM3PJy"
      },
      "outputs": [],
      "source": [
        "from sklearn.tree import DecisionTreeRegressor\n",
        "\n",
        "regressor = DecisionTreeRegressor(max_depth=5, random_state=42, criterion='squared_error')\n",
        "regressor.fit(train_X, train_y)\n",
        "pred_y = regressor.predict(test_X)\n",
        "print(sklearn.metrics.mean_squared_error(test_y, pred_y))"
      ]
    },
    {
      "cell_type": "code",
      "execution_count": null,
      "metadata": {
        "id": "JJsw5nQF3PJy"
      },
      "outputs": [],
      "source": [
        "# Variables : ['CRIM', 'ZN', 'INDUS', 'CHAS', 'NOX', 'RM', 'AGE', 'DIS', 'RAD', 'TAX', 'PTRATIO', 'B', 'LSTAT', 'MEDV']\n",
        "regressor.feature_importances_"
      ]
    },
    {
      "cell_type": "code",
      "execution_count": null,
      "metadata": {
        "id": "UUeWSF7v3PJy"
      },
      "outputs": [],
      "source": [
        "# Nouvel arbre avec une profondeur de 3\n",
        "from sklearn.tree import DecisionTreeRegressor\n",
        "\n",
        "regressor = DecisionTreeRegressor(max_depth=3, random_state=42, criterion='squared_error')\n",
        "regressor.fit(train_X, train_y)\n",
        "pred_y = regressor.predict(test_X)\n",
        "print(sklearn.metrics.mean_squared_error(test_y, pred_y))"
      ]
    },
    {
      "cell_type": "code",
      "execution_count": null,
      "metadata": {
        "id": "5JQIuEyi3PJy"
      },
      "outputs": [],
      "source": [
        "from sklearn.tree import export_graphviz\n",
        "from IPython.display import Image\n",
        "\n",
        "feature_names = ['CRIM', 'ZN', 'INDUS', 'CHAS', 'NOX', 'RM', 'AGE', 'DIS', 'RAD', 'TAX', 'PTRATIO', 'B', 'LSTAT']\n",
        "export_graphviz(regressor, out_file='tree_boston.dot', feature_names=feature_names, rounded=True, filled=True)"
      ]
    },
    {
      "cell_type": "code",
      "execution_count": null,
      "metadata": {
        "id": "VnkBCCsh3PJy"
      },
      "outputs": [],
      "source": [
        "!dot -Tpng tree_boston.dot -o tree_boston.png -Gdpi=600"
      ]
    },
    {
      "cell_type": "code",
      "execution_count": null,
      "metadata": {
        "id": "MmT3ExKV3PJy"
      },
      "outputs": [],
      "source": [
        "from IPython.display import Image\n",
        "Image(filename = 'tree_boston.png')"
      ]
    },
    {
      "cell_type": "code",
      "execution_count": null,
      "metadata": {
        "id": "0uolugcL3PJy"
      },
      "outputs": [],
      "source": [
        "from sklearn.ensemble import RandomForestRegressor\n",
        "\n",
        "regressor = RandomForestRegressor(n_estimators=20, max_depth=4, random_state=42, criterion='squared_error')\n",
        "regressor.fit(train_X, train_y)\n",
        "pred_y = regressor.predict(test_X)\n",
        "print(sklearn.metrics.mean_squared_error(test_y, pred_y))"
      ]
    },
    {
      "cell_type": "code",
      "execution_count": null,
      "metadata": {
        "id": "n9AxZj7b3PJy"
      },
      "outputs": [],
      "source": [
        "# Variables : ['CRIM', 'ZN', 'INDUS', 'CHAS', 'NOX', 'RM', 'AGE', 'DIS', 'RAD', 'TAX', 'PTRATIO', 'B', 'LSTAT', 'MEDV']\n",
        "regressor.feature_importances_"
      ]
    },
    {
      "cell_type": "code",
      "execution_count": null,
      "metadata": {
        "id": "w1z7CoXg3PJz"
      },
      "outputs": [],
      "source": [
        "import xgboost\n",
        "\n",
        "xgboost = xgboost.XGBRegressor(max_depth=5, subsample=0.7, sampling_method='uniform', seed=42, n_estimators=20)\n",
        "xgboost.fit(train_X, train_y)\n",
        "pred_y = xgboost.predict(test_X)\n",
        "print(sklearn.metrics.mean_squared_error(test_y, pred_y))"
      ]
    },
    {
      "cell_type": "code",
      "execution_count": null,
      "metadata": {
        "id": "IvP6ZPvj3PJz"
      },
      "outputs": [],
      "source": [
        "# Variables : ['CRIM', 'ZN', 'INDUS', 'CHAS', 'NOX', 'RM', 'AGE', 'DIS', 'RAD', 'TAX', 'PTRATIO', 'B', 'LSTAT', 'MEDV']\n",
        "xgboost.feature_importances_"
      ]
    },
    {
      "cell_type": "markdown",
      "metadata": {
        "id": "IcUCFJ6C3PJz"
      },
      "source": [
        "### 3.3 K-plus proches voisins (KNN)"
      ]
    },
    {
      "cell_type": "code",
      "execution_count": null,
      "metadata": {
        "id": "D1XqJduI3PJz"
      },
      "outputs": [],
      "source": [
        "from sklearn.neighbors import KNeighborsRegressor\n",
        "\n",
        "regressor = KNeighborsRegressor(n_neighbors=3, weights='distance')\n",
        "regressor.fit(train_X, train_y)\n",
        "pred_y = regressor.predict(test_X)\n",
        "print(sklearn.metrics.mean_squared_error(test_y, pred_y))"
      ]
    },
    {
      "cell_type": "code",
      "execution_count": null,
      "metadata": {
        "id": "pUAahArF3PJz"
      },
      "outputs": [],
      "source": [
        "pred_y_train = regressor.predict(train_X)\n",
        "print(sklearn.metrics.mean_squared_error(train_y, pred_y_train))"
      ]
    },
    {
      "cell_type": "markdown",
      "metadata": {
        "id": "8tNL7-2G3PJz"
      },
      "source": [
        "### 3.4 Support Vector Machine (SVM)"
      ]
    },
    {
      "cell_type": "code",
      "execution_count": null,
      "metadata": {
        "id": "221zTqU43PJz"
      },
      "outputs": [],
      "source": [
        "from sklearn.svm import SVR\n",
        "\n",
        "regressor = SVR(kernel='linear', C=0.05)\n",
        "regressor.fit(train_X, train_y)\n",
        "pred_y = regressor.predict(test_X)\n",
        "print(sklearn.metrics.mean_squared_error(test_y, pred_y))"
      ]
    },
    {
      "cell_type": "code",
      "execution_count": null,
      "metadata": {
        "id": "gQlR82sW3PJz"
      },
      "outputs": [],
      "source": [
        "from sklearn.pipeline import Pipeline\n",
        "from sklearn.preprocessing import StandardScaler\n",
        "\n",
        "regressor = SVR(kernel='linear', C=0.05)\n",
        "pipeline = Pipeline([\n",
        "    ('stand', StandardScaler()),\n",
        "    ('svr', regressor)])\n",
        "pipeline.fit(train_X, train_y)\n",
        "pred_y = pipeline.predict(test_X)\n",
        "print(sklearn.metrics.mean_squared_error(test_y, pred_y))"
      ]
    },
    {
      "cell_type": "markdown",
      "source": [
        "# Exercice 4\n",
        "\n",
        "Maintenant, faites un tableau comparatif des différents algorithmes. Est-ce que l'un d'eux présente un réel avantage par rapport à la régression linéaire ?"
      ],
      "metadata": {
        "id": "Ivygzxo17c0O"
      }
    },
    {
      "cell_type": "code",
      "source": [],
      "metadata": {
        "id": "I4hHy66Z72E0"
      },
      "execution_count": null,
      "outputs": []
    },
    {
      "cell_type": "markdown",
      "source": [
        "## Question\n",
        "Que pouvez-vous observer ci-dessus ? Est-ce que l'utilisation d'un scaler a permis d'améliorer les résultats ??"
      ],
      "metadata": {
        "id": "6MUtDU348TZG"
      }
    },
    {
      "cell_type": "code",
      "source": [],
      "metadata": {
        "id": "4IMnlvZ38mTw"
      },
      "execution_count": null,
      "outputs": []
    },
    {
      "cell_type": "markdown",
      "metadata": {
        "id": "kV3-rd-R3PJ0"
      },
      "source": [
        "### 4.3 Problème de la colinéarité"
      ]
    },
    {
      "cell_type": "markdown",
      "source": [
        "On va simuler une colinéarité, qui est un problème avec une regression lineaire simple"
      ],
      "metadata": {
        "id": "qH6yAne68n7H"
      }
    },
    {
      "cell_type": "code",
      "execution_count": null,
      "metadata": {
        "id": "M85PgVKr3PJ0"
      },
      "outputs": [],
      "source": [
        "train_X['DIS-KM'] = 1.609 * train_X['DIS']\n",
        "test_X['DIS-KM'] = 1.609 * test_X['DIS']"
      ]
    },
    {
      "cell_type": "markdown",
      "metadata": {
        "id": "j3zZYgSe3PJ0"
      },
      "source": [
        "Par la suite, nous allons tester des variations (Ridge, Lasso) qui sont un peu plus tolérantes aux colinéarités\n",
        "\n",
        "### 4.4 Ridge regression"
      ]
    },
    {
      "cell_type": "code",
      "execution_count": null,
      "metadata": {
        "id": "SzCBqs6j3PJ3"
      },
      "outputs": [],
      "source": [
        "train_X, test_X, train_y, test_y = train_test_split(X, y, train_size=0.8, test_size=0.2, random_state=42)\n",
        "names = ['CRIM', 'ZN', 'INDUS', 'CHAS', 'NOX', 'RM', 'AGE', 'DIS', 'RAD', 'TAX', 'PTRATIO', 'B', 'LSTAT', 'MEDV']"
      ]
    },
    {
      "cell_type": "code",
      "execution_count": null,
      "metadata": {
        "id": "xEGAHe7F3PJ3"
      },
      "outputs": [],
      "source": [
        "from sklearn.linear_model import Ridge\n",
        "from sklearn import metrics\n",
        "\n",
        "regressor = Ridge(alpha=1)\n",
        "regressor.fit(train_X, train_y)\n",
        "pred_y = regressor.predict(test_X)\n",
        "print(metrics.mean_squared_error(test_y, pred_y))"
      ]
    },
    {
      "cell_type": "code",
      "execution_count": null,
      "metadata": {
        "id": "jVOI-PaO3PJ3"
      },
      "outputs": [],
      "source": [
        "regressor.intercept_"
      ]
    },
    {
      "cell_type": "code",
      "execution_count": null,
      "metadata": {
        "id": "j33O-BDl3PJ4"
      },
      "outputs": [],
      "source": [
        "# Variables : ['CRIM', 'ZN', 'INDUS', 'CHAS', 'NOX', 'RM', 'AGE', 'DIS', 'RAD', 'TAX', 'PTRATIO', 'B', 'LSTAT', 'MEDV']\n",
        "regressor.coef_"
      ]
    },
    {
      "cell_type": "code",
      "execution_count": null,
      "metadata": {
        "id": "4IAv2wRR3PJ4"
      },
      "outputs": [],
      "source": [
        "from sklearn.linear_model import RidgeCV\n",
        "import numpy as np\n",
        "\n",
        "regressor = RidgeCV(alphas=np.logspace(-6, 6, 13))\n",
        "regressor.fit(train_X, train_y)\n",
        "pred_y = regressor.predict(test_X)\n",
        "print(metrics.mean_squared_error(test_y, pred_y))"
      ]
    },
    {
      "cell_type": "code",
      "execution_count": null,
      "metadata": {
        "id": "sbdKTKow3PJ4"
      },
      "outputs": [],
      "source": [
        "regressor.alpha_"
      ]
    },
    {
      "cell_type": "code",
      "execution_count": null,
      "metadata": {
        "id": "ttKUDHzy3PJ4"
      },
      "outputs": [],
      "source": [
        "# Variables : ['CRIM', 'ZN', 'INDUS', 'CHAS', 'NOX', 'RM', 'AGE', 'DIS', 'RAD', 'TAX', 'PTRATIO', 'B', 'LSTAT', 'MEDV']\n",
        "regressor.coef_"
      ]
    },
    {
      "cell_type": "code",
      "execution_count": null,
      "metadata": {
        "id": "qufmHnqR3PJ4"
      },
      "outputs": [],
      "source": [
        "regressor.intercept_"
      ]
    },
    {
      "cell_type": "markdown",
      "metadata": {
        "id": "mF5Tz-Mr3PJ4"
      },
      "source": [
        "### 4.5 Régression Lasso"
      ]
    },
    {
      "cell_type": "code",
      "execution_count": null,
      "metadata": {
        "id": "JbzuKgaW3PJ4"
      },
      "outputs": [],
      "source": [
        "from sklearn.linear_model import Lasso\n",
        "from sklearn import metrics\n",
        "\n",
        "regressor = Lasso(alpha=1)\n",
        "regressor.fit(train_X, train_y)\n",
        "pred_y = regressor.predict(test_X)\n",
        "print(metrics.mean_squared_error(test_y, pred_y))"
      ]
    },
    {
      "cell_type": "code",
      "execution_count": null,
      "metadata": {
        "id": "Nas_r50f3PJ4"
      },
      "outputs": [],
      "source": [
        "regressor.intercept_"
      ]
    },
    {
      "cell_type": "code",
      "execution_count": null,
      "metadata": {
        "id": "8LXb7XEl3PJ4"
      },
      "outputs": [],
      "source": [
        "# Variables : ['CRIM', 'ZN', 'INDUS', 'CHAS', 'NOX', 'RM', 'AGE', 'DIS', 'RAD', 'TAX', 'PTRATIO', 'B', 'LSTAT', 'MEDV']\n",
        "regressor.coef_"
      ]
    },
    {
      "cell_type": "code",
      "execution_count": null,
      "metadata": {
        "id": "exSTDb3l3PJ5"
      },
      "outputs": [],
      "source": [
        "[names[i] for i in np.where(regressor.coef_ == 0)[0]]"
      ]
    },
    {
      "cell_type": "code",
      "execution_count": null,
      "metadata": {
        "id": "ONq93kjm3PJ5"
      },
      "outputs": [],
      "source": [
        "from sklearn.linear_model import LassoCV\n",
        "\n",
        "regressor = LassoCV(n_alphas=500)\n",
        "regressor.fit(train_X, train_y)\n",
        "pred_y = regressor.predict(test_X)\n",
        "print(metrics.mean_squared_error(test_y, pred_y))"
      ]
    },
    {
      "cell_type": "code",
      "execution_count": null,
      "metadata": {
        "id": "LwefYkrY3PJ5"
      },
      "outputs": [],
      "source": [
        "regressor.intercept_"
      ]
    },
    {
      "cell_type": "code",
      "execution_count": null,
      "metadata": {
        "id": "5cieVg3s3PJ5"
      },
      "outputs": [],
      "source": [
        "# Variables : ['CRIM', 'ZN', 'INDUS', 'CHAS', 'NOX', 'RM', 'AGE', 'DIS', 'RAD', 'TAX', 'PTRATIO', 'B', 'LSTAT', 'MEDV']\n",
        "regressor.coef_"
      ]
    },
    {
      "cell_type": "code",
      "execution_count": null,
      "metadata": {
        "id": "wtQb8vUy3PJ5"
      },
      "outputs": [],
      "source": [
        "regressor.alpha_"
      ]
    },
    {
      "cell_type": "markdown",
      "metadata": {
        "id": "0bGGVmI-3PJ5"
      },
      "source": [
        "## 5. Régression polynomiale\n",
        "\n",
        "Enfin, un autre type de régression. Jusqu'à présent nous n'avons utilisé que de la régression linéaire. Voyons comment effectuer une régression polynomiale"
      ]
    },
    {
      "cell_type": "code",
      "execution_count": null,
      "metadata": {
        "id": "Rv96zW0z3PJ5"
      },
      "outputs": [],
      "source": [
        "from sklearn.preprocessing import PolynomialFeatures\n",
        "from sklearn.linear_model import Lasso\n",
        "from sklearn import metrics\n",
        "\n",
        "# Préprocesseur\n",
        "poly = PolynomialFeatures(degree=2, include_bias=False)\n",
        "train_X = poly.fit_transform(train_X)\n",
        "test_X = poly.transform(test_X)\n",
        "\n",
        "# Algorithme Lasso\n",
        "regressor = Lasso(max_iter=15000)\n",
        "regressor.fit(train_X, train_y)\n",
        "pred_y = regressor.predict(test_X)\n",
        "print(metrics.mean_squared_error(test_y, pred_y))"
      ]
    },
    {
      "cell_type": "code",
      "execution_count": null,
      "metadata": {
        "id": "VxNuk8M03PJ5"
      },
      "outputs": [],
      "source": [
        "# Nombre de features\n",
        "poly.n_output_features_"
      ]
    },
    {
      "cell_type": "code",
      "execution_count": null,
      "metadata": {
        "id": "jC018An63PJ6"
      },
      "outputs": [],
      "source": [
        "# Nombre de coefficients non nuls\n",
        "np.where(regressor.coef_ != 0)[0].shape"
      ]
    }
  ],
  "metadata": {
    "instance_type": "ml.t3.medium",
    "kernelspec": {
      "display_name": "Python 3 (ipykernel)",
      "language": "python",
      "name": "python3"
    },
    "language_info": {
      "codemirror_mode": {
        "name": "ipython",
        "version": 3
      },
      "file_extension": ".py",
      "mimetype": "text/x-python",
      "name": "python",
      "nbconvert_exporter": "python",
      "pygments_lexer": "ipython3",
      "version": "3.9.17"
    },
    "toc-autonumbering": false,
    "toc-showcode": false,
    "toc-showmarkdowntxt": false,
    "toc-showtags": false,
    "colab": {
      "provenance": [],
      "include_colab_link": true
    }
  },
  "nbformat": 4,
  "nbformat_minor": 0
}
