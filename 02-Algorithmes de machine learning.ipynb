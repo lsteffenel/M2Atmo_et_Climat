{
  "cells": [
    {
      "cell_type": "markdown",
      "metadata": {
        "id": "view-in-github",
        "colab_type": "text"
      },
      "source": [
        "<a href=\"https://colab.research.google.com/github/lsteffenel/M2Atmo_et_Climat/blob/main/02-Algorithmes%20de%20machine%20learning.ipynb\" target=\"_parent\"><img src=\"https://colab.research.google.com/assets/colab-badge.svg\" alt=\"Open In Colab\"/></a>"
      ]
    },
    {
      "cell_type": "markdown",
      "metadata": {
        "id": "ueskn16vo0vi"
      },
      "source": [
        "# Principes de base de Machine Learning"
      ]
    },
    {
      "cell_type": "markdown",
      "metadata": {
        "id": "h5zorFAto0vj"
      },
      "source": [
        "Nous allons tout d'abord présenter la classe object *Estimator* de scikit-learn avant de revenir sur la notion d'**apprentissage supervisé**, sur des problèmes de *classification* et de *régression*, ainsi que l'**apprentissage\n",
        "non supervisé** sur des problèmes de *clustering* et *reduction de dimensions*.\n"
      ]
    },
    {
      "cell_type": "code",
      "execution_count": null,
      "metadata": {
        "id": "33KoRgFpo0vj"
      },
      "outputs": [],
      "source": [
        "%matplotlib inline\n",
        "import numpy as np\n",
        "import matplotlib.pyplot as plt\n",
        "plt.style.use('seaborn')"
      ]
    },
    {
      "cell_type": "markdown",
      "metadata": {
        "id": "yp17rseco0vj"
      },
      "source": [
        "## L'objet Estimator de Scikit-Learn\n",
        "\n",
        "Tout algorithme présent dans Scikit-learn hérite de la classe objet ''Estimator''. C'est le cas par exemple de la régression linéaire:\n"
      ]
    },
    {
      "cell_type": "code",
      "execution_count": null,
      "metadata": {
        "id": "Mcn1Illoo0vj"
      },
      "outputs": [],
      "source": [
        "from sklearn.linear_model import LinearRegression"
      ]
    },
    {
      "cell_type": "markdown",
      "metadata": {
        "id": "FFhh5c3lo0vk"
      },
      "source": [
        "**Paramètres de l'estimateur**: tous les paramètres de l'estimateur sont initialisés (en général sur des valeurs par défaut pertinentes):"
      ]
    },
    {
      "cell_type": "code",
      "execution_count": null,
      "metadata": {
        "id": "Ma8KB7DFo0vk"
      },
      "outputs": [],
      "source": [
        "model = LinearRegression()"
      ]
    },
    {
      "cell_type": "code",
      "execution_count": null,
      "metadata": {
        "id": "A3e5stClo0vk"
      },
      "outputs": [],
      "source": [
        "print(model)"
      ]
    },
    {
      "cell_type": "markdown",
      "metadata": {
        "id": "sTIdoI8Xo0vk"
      },
      "source": [
        "**Paramètre du modèle à estimer**: Quand un modèle est appris sur des données, la valeur des paramètres du modèle est stockée dans des attributs de l'object estimateur qui se termine par un underscore:"
      ]
    },
    {
      "cell_type": "code",
      "execution_count": null,
      "metadata": {
        "id": "fXFElQaxo0vk"
      },
      "outputs": [],
      "source": [
        "x = np.arange(10)\n",
        "y = 2 * x + 1"
      ]
    },
    {
      "cell_type": "code",
      "execution_count": null,
      "metadata": {
        "id": "u9d2nkZDo0vk"
      },
      "outputs": [],
      "source": [
        "print(x)\n",
        "print(y)"
      ]
    },
    {
      "cell_type": "code",
      "execution_count": null,
      "metadata": {
        "id": "0YpIsPqbo0vk"
      },
      "outputs": [],
      "source": [
        "plt.plot(x, y, 'o');"
      ]
    },
    {
      "cell_type": "code",
      "execution_count": null,
      "metadata": {
        "id": "goQx515jo0vk"
      },
      "outputs": [],
      "source": [
        "# Données en 2D: ( 10 exemples et une seule features X)\n",
        "X = x[:, np.newaxis]\n",
        "print(X)\n",
        "print(y)"
      ]
    },
    {
      "cell_type": "code",
      "execution_count": null,
      "metadata": {
        "id": "ib8rlMDlo0vk"
      },
      "outputs": [],
      "source": [
        "# On apprend le model à partir des données\n",
        "model.fit(X, y)"
      ]
    },
    {
      "cell_type": "code",
      "execution_count": null,
      "metadata": {
        "id": "jkghZZ8Do0vk"
      },
      "outputs": [],
      "source": [
        "# les paramètres appris se terminent par un underscore\n",
        "print(model.coef_)\n",
        "print(model.intercept_)"
      ]
    },
    {
      "cell_type": "markdown",
      "metadata": {
        "id": "2U_vA_oxo0vk"
      },
      "source": [
        "Notre modèle de regression linéaire à une pente égale à 2 et l'origine vaut 1 (plus exactement, 0.999999...)."
      ]
    },
    {
      "cell_type": "markdown",
      "metadata": {
        "id": "f5wgpUxKo0vl"
      },
      "source": [
        "## Apprentissage supervisé: Classification\n",
        "\n",
        "En **apprentissage supervisé**, nous diposons d'un jeu de données constitué de descripteurs (features) couplées à des annotations (labels). La tâche consiste à contruire un estimateur qui va prédire l'annotations en utilisant uniquement des descripteurs. Pour donner un exemple simple: on cherche à prédire l'espèce d'une iris (une plante) en considérant uniquement les dimensions mesurées de ses feuilles.\n",
        "D'autres exmples plus difficles à résoudre:\n",
        "- à partir d'une image capturé via un téléscope, déterminer si elle contient une étoile, un rayonnement stellaire ou une galaxie.\n",
        "- indentifier une personne sur une photo.\n",
        "- à partir d'un historique de films vus par un utilisateur et de notes attribuées, recommander des films d'intérêts à l'utilisateur. (Le système de recommandation: un exemple connu est celui du [Challenge Netflix](http://en.wikipedia.org/wiki/Netflix_prize))\n",
        "\n",
        "\n",
        "Le point commun entre ces exemples est que l'on cherche toujours à prédire une variable (ou plusieurs) à partir d'autres variables observées.\n",
        "\n",
        "L'apprentissage supervisé se divise en 2 grandes sous-catégories: la **classification** et la **régression**, selon la nature de la variable à prédire. Si la variable est discrète, on parle de classification. Si la variable est continue, on parle de régression."
      ]
    },
    {
      "cell_type": "markdown",
      "metadata": {
        "id": "Y6YM6VToo0vl"
      },
      "source": [
        "### Exemple de classification\n",
        "La **méthode des K plus proches voisins** est une des méthodes les plus simple: pour un nouvel exemple, on cherche les exemples similaires dans nos données et on prédit la classe dominante dans son voisinage.\n",
        "\n",
        "Regardons ce que cela donne en pratique sur les **données d'iris**. Les données d'Iris contiennent 4 variables descriptives :\n",
        "- longueurs des sépales,\n",
        "- largeurs des sépales,\n",
        "- longueurs des pétales,\n",
        "- et largeur des pétales;\n",
        "\n",
        "pour sur 3 types d'iris distinct:\n",
        "- setosa (rouge)\n",
        "- versicolor (vert)\n",
        "- virginia (bleu)\n"
      ]
    },
    {
      "cell_type": "markdown",
      "metadata": {
        "id": "u6LfWPo5o0vl"
      },
      "source": [
        "<img src=\"https://github.com/lsteffenel/M2Atmo_et_Climat/blob/main/images/Iris_dataset_scatterplot.svg.png?raw=1\" width=\"500\"/>"
      ]
    },
    {
      "cell_type": "code",
      "source": [
        "!wget https://github.com/lsteffenel/M2Atmo_et_Climat/raw/main/fig_code/fig_code.tar.gz\n",
        "!tar -xzf fig_code.tar.gz"
      ],
      "metadata": {
        "id": "FM2xm-FJp8NB"
      },
      "execution_count": null,
      "outputs": []
    },
    {
      "cell_type": "code",
      "execution_count": null,
      "metadata": {
        "id": "qY6oooZ7o0vl"
      },
      "outputs": [],
      "source": [
        "from sklearn import neighbors, datasets\n",
        "\n",
        "iris = datasets.load_iris()\n",
        "X, y = iris.data, iris.target\n",
        "\n",
        "# définition du modèle\n",
        "knn = neighbors.KNeighborsClassifier(n_neighbors=5)\n",
        "\n",
        "# apprentissage\n",
        "knn.fit(X, y)\n",
        "\n",
        "# Quel type d'iris pour une sépale de 3cm x 5cm et pétale de 4cm x 2cm?\n",
        "# on utilise la méthode .predict():\n",
        "result = knn.predict([[3, 5, 4, 2],])\n",
        "\n",
        "print(iris.target_names[result])"
      ]
    },
    {
      "cell_type": "markdown",
      "metadata": {
        "id": "iTwKpAm8o0vl"
      },
      "source": [
        "On peut accéder aux prédictions sous forme de probabilités d'appartenance aux classes:"
      ]
    },
    {
      "cell_type": "code",
      "execution_count": null,
      "metadata": {
        "id": "qZ_8VdAEo0vl"
      },
      "outputs": [],
      "source": [
        "knn.predict_proba([[3, 5, 4, 2],])"
      ]
    },
    {
      "cell_type": "code",
      "execution_count": null,
      "metadata": {
        "id": "7RllKGQfo0vl"
      },
      "outputs": [],
      "source": [
        "from fig_code import plot_iris_knn\n",
        "plot_iris_knn()"
      ]
    },
    {
      "cell_type": "markdown",
      "metadata": {
        "id": "S0P_ypcoo0vl"
      },
      "source": [
        "---"
      ]
    },
    {
      "cell_type": "markdown",
      "source": [
        "Dans le prochain TP vous allez utiliser des arbres de décision pour la classification."
      ],
      "metadata": {
        "id": "he9_1q0tmICF"
      }
    },
    {
      "cell_type": "code",
      "execution_count": null,
      "metadata": {
        "id": "ulRtCG1Jo0vm"
      },
      "outputs": [],
      "source": []
    }
  ],
  "metadata": {
    "kernelspec": {
      "display_name": "Python 3",
      "language": "python",
      "name": "python3"
    },
    "language_info": {
      "codemirror_mode": {
        "name": "ipython",
        "version": 3
      },
      "file_extension": ".py",
      "mimetype": "text/x-python",
      "name": "python",
      "nbconvert_exporter": "python",
      "pygments_lexer": "ipython3",
      "version": "3.6.13"
    },
    "colab": {
      "provenance": [],
      "include_colab_link": true
    }
  },
  "nbformat": 4,
  "nbformat_minor": 0
}