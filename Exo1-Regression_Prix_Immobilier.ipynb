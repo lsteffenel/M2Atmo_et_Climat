{
  "cells": [
    {
      "cell_type": "markdown",
      "metadata": {
        "id": "Gb1FqMhu3PMz"
      },
      "source": [
        "# Introduction librairies sklearn, pandas\n",
        "- Pandas : manipuler des fichiers csv (tableaux excel), faire des statistiques descriptives (moyenne variance, mediane,histogramme)\n",
        "- Sklearn : Librairie orienté machine learning. Simplifie les taches récurentes, telles que séparer les données, créer un modèle, entraîner un modèle.\n",
        "\n",
        "\n",
        "La librairie  \"pandas\" est destinée à utiliser des fichiers csv sous python de manière naturelle. Les fichiers csv sont représentés par un \"DataFrame\". C'est un objet python sur lesquels on peut effectuer les opérations les plus courantes (calculer la moyenne d'une colonne, etc.)"
      ]
    },
    {
      "cell_type": "markdown",
      "metadata": {
        "id": "VVNLpzUT3PM1"
      },
      "source": [
        "# Partie 1"
      ]
    },
    {
      "cell_type": "markdown",
      "metadata": {
        "id": "QwRsXPCh3PM1"
      },
      "source": [
        "# Importer les données\n"
      ]
    },
    {
      "cell_type": "code",
      "source": [
        "!wget https://github.com/lsteffenel/M2Atmo_et_Climat/raw/main/housing.csv"
      ],
      "metadata": {
        "id": "42ECCgFQ3Ri4"
      },
      "execution_count": null,
      "outputs": []
    },
    {
      "cell_type": "code",
      "execution_count": null,
      "metadata": {
        "id": "PBv_AX-r3PM2"
      },
      "outputs": [],
      "source": [
        "import pandas\n",
        "import matplotlib.pyplot as plt\n"
      ]
    },
    {
      "cell_type": "code",
      "execution_count": null,
      "metadata": {
        "id": "HRhV8vKv3PM2"
      },
      "outputs": [],
      "source": [
        "# A COMPLETER\n",
        "\n",
        "# Importer les données contenues dans le fichier housing.csv dans un DataFrame pandas\n",
        "file_housing = 'housing.csv'\n",
        "\n",
        "# Afficher le nom des colonnes\n"
      ]
    },
    {
      "cell_type": "markdown",
      "metadata": {
        "id": "e5hZPltT3PM3"
      },
      "source": [
        "Le \"Boston data frame\" a 506 lignes and 14 colonnes.\n",
        "- medv : valeur moyenne des maison en milliers en millier de dollars.\n",
        "\n",
        "- crim taux de criminalité par ville\n",
        "\n",
        "- zn proportion de résidences ( lots > 25,000 sq.ft.)\n",
        "\n",
        "- indus proportion  de zone industrielle par ville\n",
        "\n",
        "- chas 1 si une rivière passe, 0 sinon\n",
        "\n",
        "- nox nitrogen oxides concentration (pollution).\n",
        "\n",
        "- rm nombre moyen de chambres par habitation\n",
        "\n",
        "- age proportion de maisons occupées construites avant 1940.\n",
        "\n",
        "- dis distance moyenne (pondérée) des 5 centres d'emplois de Boston.\n",
        "\n",
        "- rad indice d'accés au périph\n",
        "\n",
        "- tax taxe d'habitation  pour  \\$10,000.\n",
        "\n",
        "- ptratio taux de \"pupil-teacher\" par ville (?).\n",
        "\n",
        "- black 1000(Bk - 0.63)^2 ou Bk est la proportion d'afro-américain par ville (base de donnée US)\n",
        "\n",
        "- lstat pourcentage de personnes en dessous du seuil de pauvreté (lower status).\n"
      ]
    },
    {
      "cell_type": "markdown",
      "metadata": {
        "id": "sGF1-BXz3PM3"
      },
      "source": [
        "# Outils de visualisation"
      ]
    },
    {
      "cell_type": "markdown",
      "metadata": {
        "id": "TUkfdqaQ3PM3"
      },
      "source": [
        "## Aperçu des données"
      ]
    },
    {
      "cell_type": "code",
      "execution_count": null,
      "metadata": {
        "id": "5T_xxDdq3PM3"
      },
      "outputs": [],
      "source": [
        "# A COMPLETER\n",
        "\n",
        "# Afficher les 5 premières lignes du jeu de données\n"
      ]
    },
    {
      "cell_type": "markdown",
      "metadata": {
        "id": "mHTgmGOp3PM4"
      },
      "source": [
        "# Visualisation des données : Statistiques descriptives\n",
        "Avec pandas et l'objet \"Dataframe\", il est facile de visualiser la distribution des variables présentes dans notre jeu de donnée"
      ]
    },
    {
      "cell_type": "code",
      "execution_count": null,
      "metadata": {
        "id": "owaahhsY3PM4"
      },
      "outputs": [],
      "source": [
        "# A COMPLETER\n",
        "\n",
        "# Afficher un histogramme pour chaque feature\n"
      ]
    },
    {
      "cell_type": "markdown",
      "metadata": {
        "id": "9QdttFo13PM4"
      },
      "source": [
        "## Selectionner une colonne"
      ]
    },
    {
      "cell_type": "code",
      "execution_count": null,
      "metadata": {
        "id": "UaUsw6UE3PM4"
      },
      "outputs": [],
      "source": [
        "# A COMPLETER\n",
        "\n",
        "# Mettre la colonne age dans la variable age\n",
        "age = None\n",
        "print(age)"
      ]
    },
    {
      "cell_type": "markdown",
      "metadata": {
        "id": "n6paV_ky3PM4"
      },
      "source": [
        "## statistiques sur une colonne\n"
      ]
    },
    {
      "cell_type": "code",
      "execution_count": null,
      "metadata": {
        "id": "YCyhIjaL3PM4"
      },
      "outputs": [],
      "source": [
        "# A COMPLETER\n",
        "\n",
        "# Corriger le code ci-dessous\n",
        "max_age=None\n",
        "min_age=None\n",
        "median_age=None\n",
        "print(max_age,min_age,median_age)"
      ]
    },
    {
      "cell_type": "code",
      "execution_count": null,
      "metadata": {
        "id": "vmTNhpZh3PM4"
      },
      "outputs": [],
      "source": [
        "# Inspecter la colonne rad (que constatez-vous?)\n",
        "\n",
        "\n",
        "#décrire medv en fonction de rad"
      ]
    },
    {
      "cell_type": "markdown",
      "metadata": {
        "id": "Uz9mgyBA3PM5"
      },
      "source": [
        "## Visualiser l'impact d'une variable sur une autre\n"
      ]
    },
    {
      "cell_type": "code",
      "execution_count": null,
      "metadata": {
        "id": "A8Qg1vZl3PM5"
      },
      "outputs": [],
      "source": [
        "# A COMPLETER\n",
        "\n",
        "# Faire le scatter plot de crim contre medv\n"
      ]
    },
    {
      "cell_type": "code",
      "execution_count": null,
      "metadata": {
        "id": "qHUU6-qw3PM5"
      },
      "outputs": [],
      "source": [
        "# proposer une visualisation pour décrire medv en fonction de rad"
      ]
    },
    {
      "cell_type": "markdown",
      "metadata": {
        "id": "mNQTtBi23PM5"
      },
      "source": [
        "A faire : essayer de trouver d'autres variables importantes qui pourraient expliquer medv"
      ]
    },
    {
      "cell_type": "code",
      "execution_count": null,
      "metadata": {
        "id": "Yc26Goyp3PM5"
      },
      "outputs": [],
      "source": []
    },
    {
      "cell_type": "markdown",
      "metadata": {
        "id": "ZVpnFFbn3PM5"
      },
      "source": [
        "# Partie 2\n"
      ]
    },
    {
      "cell_type": "markdown",
      "metadata": {
        "id": "YBE-67xO3PM5"
      },
      "source": [
        "# Séparer sous la forme (X,Y)"
      ]
    },
    {
      "cell_type": "code",
      "execution_count": null,
      "metadata": {
        "id": "GzYdzSQN3PM5"
      },
      "outputs": [],
      "source": [
        "y=df[\"medv\"] # la variable a prédire\n",
        "x=df.drop('medv', axis=1) # enlever la variable à prédire des prédicteurs\n",
        "print(\"la taille de mon jeu de donnée est {}. Je cherche à expliquer le prix de vente d'une maison à partir de {} variables\".format(x.shape[0],x.shape[1]))"
      ]
    },
    {
      "cell_type": "code",
      "execution_count": null,
      "metadata": {
        "id": "edqBrKvy3PM5"
      },
      "outputs": [],
      "source": [
        "x=x.fillna(-1) # valeurs manquantes\n",
        "y=y.fillna(-1) # valeurs manquantes"
      ]
    },
    {
      "cell_type": "markdown",
      "metadata": {
        "id": "4Q9HxTix3PM5"
      },
      "source": [
        "# Création du jeu d'entrainement et du jeu de test\n",
        "Nous devons maintenant découper notre jeu d'entrainement. Pour cela, j'utilise la fonction train_test_split fournie par sklearn. Le paramètre test_size me permet de choisir la proportion de mon jeu de test. En règle général, cette valeur est comprise entre 0.2 et 0.3."
      ]
    },
    {
      "cell_type": "code",
      "execution_count": null,
      "metadata": {
        "id": "8QYTPbOa3PM5"
      },
      "outputs": [],
      "source": [
        "from sklearn.model_selection import train_test_split\n",
        "\n",
        "# A COMPLETER\n",
        "X_train,X_test,Y_train,Y_test = (None, None, None, None)"
      ]
    },
    {
      "cell_type": "markdown",
      "metadata": {
        "id": "RIow3yLy3PM5"
      },
      "source": [
        "# Création d'un modèle (regréssion lineaire)\n",
        "Nous allons maintenant essayer d'expliquer la variable y (le prix de la maison) en fonction des variables x. Le modèle est de la forme : $$y=A*x+b$$\n",
        "$$ Prix=\\beta_{CRIM}*X_{CRIM}+\\beta_{ZN}*X_{ZN}+\\beta_{INDUS}*X_{INDUS}+...$$\n",
        "Où les coefficients du vecteur A seront ceux qui \"expliquent\" le mieux les données. Par exemple, on pourrait faire l'hypothèse que la variable \"CRIM\" (taux de criminalité de la zone) a un impact négatif sur le prix des maisons. On peut prévoir un coefficient négatif devant cette variable."
      ]
    },
    {
      "cell_type": "code",
      "execution_count": null,
      "metadata": {
        "id": "eUQjSviw3PM5"
      },
      "outputs": [],
      "source": [
        "from sklearn.linear_model import LinearRegression\n",
        "\n",
        "# A COMPLETER\n",
        "\n",
        "# Créer un modèle et l'entraîner\n",
        "model=None\n"
      ]
    },
    {
      "cell_type": "code",
      "execution_count": null,
      "metadata": {
        "id": "ql0SZ2Jx3PM5"
      },
      "outputs": [],
      "source": [
        "for i in range(len(df.columns)):\n",
        "    print(df.columns[i], model.coef_[i])"
      ]
    },
    {
      "cell_type": "markdown",
      "metadata": {
        "id": "75S_sa9t3PM5"
      },
      "source": [
        "-Interpréter la valeur de ces coefficients. Sont ils crédibles ?"
      ]
    },
    {
      "cell_type": "code",
      "execution_count": null,
      "metadata": {
        "id": "m7rZDUWD3PM6"
      },
      "outputs": [],
      "source": [
        "for i in range(len(df.columns)):\n",
        "    print(\"Le coefficient de {} est {}\".format(df.columns[i],model.coef_[i]))"
      ]
    },
    {
      "cell_type": "markdown",
      "metadata": {
        "id": "ALHq8Uto3PM6"
      },
      "source": [
        "# Evaluation du modèle\n",
        "Comment savoir si notre modèle est bon ou pas ? Il faut un critère de comparaison. Par exemple l'écart quadratique moyen pour une regression, le taux de bonnes prédictions pour une classification"
      ]
    },
    {
      "cell_type": "code",
      "execution_count": null,
      "metadata": {
        "id": "x4yU4anV3PM6"
      },
      "outputs": [],
      "source": [
        "from sklearn.metrics import mean_squared_error,mean_absolute_error\n",
        "prediction_train=model.predict(X_train)\n",
        "erreur_train=mean_squared_error(Y_train,prediction_train)\n",
        "print(erreur_train)"
      ]
    },
    {
      "cell_type": "markdown",
      "metadata": {
        "id": "HnOBsSFv3PM6"
      },
      "source": [
        "Et sur le jeu d'entrainement ?"
      ]
    },
    {
      "cell_type": "code",
      "execution_count": null,
      "metadata": {
        "id": "cjK2OSVU3PM6"
      },
      "outputs": [],
      "source": [
        "# A COMPLETER\n",
        "\n",
        "# calculer l'erreur de prédiction sur le jeu de test\n"
      ]
    },
    {
      "cell_type": "markdown",
      "metadata": {
        "id": "cnkQ-WtL3PM6"
      },
      "source": [
        "L'objectif est le suivant : avoir la plus petite erreur possible sur le jeu d'entrainement."
      ]
    },
    {
      "cell_type": "markdown",
      "metadata": {
        "id": "P6MHM65L3PM7"
      },
      "source": [
        "### Interpréter l'erreur\n",
        "cette erreur est elle acceptable ? Notre modèle est il bon ? Nous avons ici considéré l'erreur moyenne au carré, peut être qu'il faut scorer le modèle avec une erreur plus compréhensible."
      ]
    },
    {
      "cell_type": "code",
      "execution_count": null,
      "metadata": {
        "id": "eztDfA2c3PM7"
      },
      "outputs": [],
      "source": [
        "erreur_train=mean_absolute_error(Y_test,prediction_test)\n",
        "print(erreur_train)"
      ]
    },
    {
      "cell_type": "markdown",
      "metadata": {
        "id": "A5-mzz8N3PNA"
      },
      "source": [
        "La contrainte est la suivante : avoir une erreur similaire sur le jeu de test (contrôle d'overfitting)"
      ]
    },
    {
      "cell_type": "markdown",
      "metadata": {
        "id": "xWW6ShrZ3PNA"
      },
      "source": [
        "# Visualisation des résultats"
      ]
    },
    {
      "cell_type": "code",
      "execution_count": null,
      "metadata": {
        "id": "Fv-U6YGN3PNA"
      },
      "outputs": [],
      "source": [
        "import matplotlib.pyplot as plt\n",
        "erreurs=Y_test-prediction_test"
      ]
    },
    {
      "cell_type": "code",
      "execution_count": null,
      "metadata": {
        "id": "TDd6FW3X3PNA"
      },
      "outputs": [],
      "source": [
        "plt.figure()\n",
        "plt.hist(erreurs, bins=50)\n",
        "plt.show()\n"
      ]
    },
    {
      "cell_type": "markdown",
      "metadata": {
        "id": "muzWK-yj3PNB"
      },
      "source": [
        "- Analyser l'histogramme des erreurs"
      ]
    },
    {
      "cell_type": "code",
      "execution_count": null,
      "metadata": {
        "id": "PYbfxfXU3PNB"
      },
      "outputs": [],
      "source": [
        "# A COMPLETER\n",
        "\n"
      ]
    },
    {
      "cell_type": "code",
      "execution_count": null,
      "metadata": {
        "id": "dMQ1gMLb3PNB"
      },
      "outputs": [],
      "source": []
    }
  ],
  "metadata": {
    "kernelspec": {
      "display_name": "Python 3 (ipykernel)",
      "language": "python",
      "name": "python3"
    },
    "language_info": {
      "codemirror_mode": {
        "name": "ipython",
        "version": 3
      },
      "file_extension": ".py",
      "mimetype": "text/x-python",
      "name": "python",
      "nbconvert_exporter": "python",
      "pygments_lexer": "ipython3",
      "version": "3.7.12"
    },
    "nav_menu": {},
    "toc": {
      "navigate_menu": true,
      "number_sections": true,
      "sideBar": true,
      "threshold": 6,
      "toc_cell": false,
      "toc_section_display": "block",
      "toc_window_display": true
    },
    "toc_position": {
      "height": "616px",
      "left": "0px",
      "right": "20px",
      "top": "106px",
      "width": "213px"
    },
    "colab": {
      "provenance": []
    }
  },
  "nbformat": 4,
  "nbformat_minor": 0
}